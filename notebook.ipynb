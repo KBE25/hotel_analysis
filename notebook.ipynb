{
 "cells": [
  {
   "cell_type": "markdown",
   "id": "3d8fe471-caec-4002-a65c-23db0cc50001",
   "metadata": {},
   "source": [
    "# Hotel Analysis"
   ]
  },
  {
   "cell_type": "markdown",
   "id": "ba4e5ebf-c3ce-4206-818b-ced30e36cb95",
   "metadata": {},
   "source": []
  },
  {
   "cell_type": "markdown",
   "id": "0524245d-6d70-475f-99e8-07b2d0ed0a58",
   "metadata": {},
   "source": [
    "## Overview"
   ]
  },
  {
   "cell_type": "markdown",
   "id": "b21e1940-e7f9-4079-97ae-1fad8121a1dc",
   "metadata": {},
   "source": []
  },
  {
   "cell_type": "markdown",
   "id": "ca7b7bb9-760a-471a-9a36-320e99c1a4b2",
   "metadata": {},
   "source": [
    "## Business Understanding"
   ]
  },
  {
   "cell_type": "markdown",
   "id": "75b8a7cd-8532-47d4-b888-810c3e840696",
   "metadata": {},
   "source": []
  },
  {
   "cell_type": "markdown",
   "id": "6e73807a-ce5a-47f3-9668-5d0198b4e02a",
   "metadata": {},
   "source": [
    "## Data Understanding"
   ]
  },
  {
   "cell_type": "markdown",
   "id": "0db0b4ef-aa3d-4fd3-8920-ab5e9d18002d",
   "metadata": {},
   "source": []
  },
  {
   "cell_type": "markdown",
   "id": "b4659404-4d83-454a-b34b-b2d08eece057",
   "metadata": {},
   "source": [
    "## Data Preparation"
   ]
  },
  {
   "cell_type": "markdown",
   "id": "596e3695-c17e-4122-89d8-82560f4f5c44",
   "metadata": {},
   "source": [
    "To complete the data preparations we will follow these steps:\n",
    "\n",
    "- 1\n",
    "- 2\n",
    "- 3"
   ]
  },
  {
   "cell_type": "markdown",
   "id": "2d3723f4-da9d-44d0-99f3-b6bfe5323661",
   "metadata": {},
   "source": [
    "### Data Cleaning"
   ]
  },
  {
   "cell_type": "code",
   "execution_count": 1,
   "id": "7ff6ecd0-6f43-442e-b502-8b6d7b8b80fb",
   "metadata": {},
   "outputs": [],
   "source": [
    "# Import necessary libraries to complete EDA\n",
    "import pandas as pd\n",
    "import numpy as np\n",
    "import matplotlib.pyplot as plt\n",
    "import seaborn as sns\n",
    "import helper\n",
    "from sklearn.model_selection import train_test_split\n",
    "from sklearn.linear_model import LinearRegression\n",
    "import statsmodels.api as sm\n",
    "from sklearn.linear_model import LogisticRegression\n",
    "from sklearn.preprocessing import OneHotEncoder, StandardScaler\n",
    "from sklearn.tree import DecisionTreeClassifier\n",
    "from sklearn.tree import DecisionTreeRegressor\n",
    "from sklearn.metrics import accuracy_score, roc_curve, auc, precision_score, recall_score, f1_score, roc_auc_score, confusion_matrix, ConfusionMatrixDisplay\n",
    "from sklearn import tree\n",
    "from sklearn.metrics import r2_score\n",
    "from scipy.stats import f_oneway\n",
    "%matplotlib inline\n",
    "\n",
    "# Enable copy-on-write for dataframe in pandas\n",
    "pd.options.mode.copy_on_write = True\n",
    "\n",
    "# Suppress warnings\n",
    "import warnings\n",
    "warnings.simplefilter(action=\"ignore\", category=FutureWarning)"
   ]
  },
  {
   "cell_type": "code",
   "execution_count": 2,
   "id": "dd2958c4-f498-48f9-86ef-22c0437906e6",
   "metadata": {},
   "outputs": [],
   "source": [
    "# Load the dataset into the notebook\n",
    "df = pd.read_csv('data/booking.csv', encoding='latin-1')"
   ]
  },
  {
   "cell_type": "code",
   "execution_count": 3,
   "id": "d00291b9-9e14-4329-8cca-d09b5a0b521b",
   "metadata": {},
   "outputs": [
    {
     "data": {
      "text/html": [
       "<div>\n",
       "<style scoped>\n",
       "    .dataframe tbody tr th:only-of-type {\n",
       "        vertical-align: middle;\n",
       "    }\n",
       "\n",
       "    .dataframe tbody tr th {\n",
       "        vertical-align: top;\n",
       "    }\n",
       "\n",
       "    .dataframe thead th {\n",
       "        text-align: right;\n",
       "    }\n",
       "</style>\n",
       "<table border=\"1\" class=\"dataframe\">\n",
       "  <thead>\n",
       "    <tr style=\"text-align: right;\">\n",
       "      <th></th>\n",
       "      <th>Booking_ID</th>\n",
       "      <th>number of adults</th>\n",
       "      <th>number of children</th>\n",
       "      <th>number of weekend nights</th>\n",
       "      <th>number of week nights</th>\n",
       "      <th>type of meal</th>\n",
       "      <th>car parking space</th>\n",
       "      <th>room type</th>\n",
       "      <th>lead time</th>\n",
       "      <th>market segment type</th>\n",
       "      <th>repeated</th>\n",
       "      <th>P-C</th>\n",
       "      <th>P-not-C</th>\n",
       "      <th>average price</th>\n",
       "      <th>special requests</th>\n",
       "      <th>date of reservation</th>\n",
       "      <th>booking status</th>\n",
       "    </tr>\n",
       "  </thead>\n",
       "  <tbody>\n",
       "    <tr>\n",
       "      <th>0</th>\n",
       "      <td>INN00001</td>\n",
       "      <td>1</td>\n",
       "      <td>1</td>\n",
       "      <td>2</td>\n",
       "      <td>5</td>\n",
       "      <td>Meal Plan 1</td>\n",
       "      <td>0</td>\n",
       "      <td>Room_Type 1</td>\n",
       "      <td>224</td>\n",
       "      <td>Offline</td>\n",
       "      <td>0</td>\n",
       "      <td>0</td>\n",
       "      <td>0</td>\n",
       "      <td>88.00</td>\n",
       "      <td>0</td>\n",
       "      <td>10/2/2015</td>\n",
       "      <td>Not_Canceled</td>\n",
       "    </tr>\n",
       "    <tr>\n",
       "      <th>1</th>\n",
       "      <td>INN00002</td>\n",
       "      <td>1</td>\n",
       "      <td>0</td>\n",
       "      <td>1</td>\n",
       "      <td>3</td>\n",
       "      <td>Not Selected</td>\n",
       "      <td>0</td>\n",
       "      <td>Room_Type 1</td>\n",
       "      <td>5</td>\n",
       "      <td>Online</td>\n",
       "      <td>0</td>\n",
       "      <td>0</td>\n",
       "      <td>0</td>\n",
       "      <td>106.68</td>\n",
       "      <td>1</td>\n",
       "      <td>11/6/2018</td>\n",
       "      <td>Not_Canceled</td>\n",
       "    </tr>\n",
       "    <tr>\n",
       "      <th>2</th>\n",
       "      <td>INN00003</td>\n",
       "      <td>2</td>\n",
       "      <td>1</td>\n",
       "      <td>1</td>\n",
       "      <td>3</td>\n",
       "      <td>Meal Plan 1</td>\n",
       "      <td>0</td>\n",
       "      <td>Room_Type 1</td>\n",
       "      <td>1</td>\n",
       "      <td>Online</td>\n",
       "      <td>0</td>\n",
       "      <td>0</td>\n",
       "      <td>0</td>\n",
       "      <td>50.00</td>\n",
       "      <td>0</td>\n",
       "      <td>2/28/2018</td>\n",
       "      <td>Canceled</td>\n",
       "    </tr>\n",
       "    <tr>\n",
       "      <th>3</th>\n",
       "      <td>INN00004</td>\n",
       "      <td>1</td>\n",
       "      <td>0</td>\n",
       "      <td>0</td>\n",
       "      <td>2</td>\n",
       "      <td>Meal Plan 1</td>\n",
       "      <td>0</td>\n",
       "      <td>Room_Type 1</td>\n",
       "      <td>211</td>\n",
       "      <td>Online</td>\n",
       "      <td>0</td>\n",
       "      <td>0</td>\n",
       "      <td>0</td>\n",
       "      <td>100.00</td>\n",
       "      <td>1</td>\n",
       "      <td>5/20/2017</td>\n",
       "      <td>Canceled</td>\n",
       "    </tr>\n",
       "    <tr>\n",
       "      <th>4</th>\n",
       "      <td>INN00005</td>\n",
       "      <td>1</td>\n",
       "      <td>0</td>\n",
       "      <td>1</td>\n",
       "      <td>2</td>\n",
       "      <td>Not Selected</td>\n",
       "      <td>0</td>\n",
       "      <td>Room_Type 1</td>\n",
       "      <td>48</td>\n",
       "      <td>Online</td>\n",
       "      <td>0</td>\n",
       "      <td>0</td>\n",
       "      <td>0</td>\n",
       "      <td>77.00</td>\n",
       "      <td>0</td>\n",
       "      <td>4/11/2018</td>\n",
       "      <td>Canceled</td>\n",
       "    </tr>\n",
       "  </tbody>\n",
       "</table>\n",
       "</div>"
      ],
      "text/plain": [
       "  Booking_ID  number of adults  number of children  number of weekend nights  \\\n",
       "0   INN00001                 1                   1                         2   \n",
       "1   INN00002                 1                   0                         1   \n",
       "2   INN00003                 2                   1                         1   \n",
       "3   INN00004                 1                   0                         0   \n",
       "4   INN00005                 1                   0                         1   \n",
       "\n",
       "   number of week nights  type of meal  car parking space    room type  \\\n",
       "0                      5   Meal Plan 1                  0  Room_Type 1   \n",
       "1                      3  Not Selected                  0  Room_Type 1   \n",
       "2                      3   Meal Plan 1                  0  Room_Type 1   \n",
       "3                      2   Meal Plan 1                  0  Room_Type 1   \n",
       "4                      2  Not Selected                  0  Room_Type 1   \n",
       "\n",
       "   lead time market segment type  repeated  P-C  P-not-C  average price  \\\n",
       "0        224             Offline         0    0        0          88.00   \n",
       "1          5              Online         0    0        0         106.68   \n",
       "2          1              Online         0    0        0          50.00   \n",
       "3        211              Online         0    0        0         100.00   \n",
       "4         48              Online         0    0        0          77.00   \n",
       "\n",
       "   special requests date of reservation booking status  \n",
       "0                 0           10/2/2015   Not_Canceled  \n",
       "1                 1           11/6/2018   Not_Canceled  \n",
       "2                 0           2/28/2018       Canceled  \n",
       "3                 1           5/20/2017       Canceled  \n",
       "4                 0           4/11/2018       Canceled  "
      ]
     },
     "execution_count": 3,
     "metadata": {},
     "output_type": "execute_result"
    }
   ],
   "source": [
    "# Preview the dataset\n",
    "df.head()"
   ]
  },
  {
   "cell_type": "code",
   "execution_count": 4,
   "id": "b4547f99-eb01-455e-8d9d-384eb1381757",
   "metadata": {},
   "outputs": [
    {
     "name": "stdout",
     "output_type": "stream",
     "text": [
      "Data shape: (36285, 17)\n",
      "\n",
      "\n",
      "Data info:\n",
      "<class 'pandas.core.frame.DataFrame'>\n",
      "RangeIndex: 36285 entries, 0 to 36284\n",
      "Data columns (total 17 columns):\n",
      " #   Column                    Non-Null Count  Dtype  \n",
      "---  ------                    --------------  -----  \n",
      " 0   Booking_ID                36285 non-null  object \n",
      " 1   number of adults          36285 non-null  int64  \n",
      " 2   number of children        36285 non-null  int64  \n",
      " 3   number of weekend nights  36285 non-null  int64  \n",
      " 4   number of week nights     36285 non-null  int64  \n",
      " 5   type of meal              36285 non-null  object \n",
      " 6   car parking space         36285 non-null  int64  \n",
      " 7   room type                 36285 non-null  object \n",
      " 8   lead time                 36285 non-null  int64  \n",
      " 9   market segment type       36285 non-null  object \n",
      " 10  repeated                  36285 non-null  int64  \n",
      " 11  P-C                       36285 non-null  int64  \n",
      " 12  P-not-C                   36285 non-null  int64  \n",
      " 13  average price             36285 non-null  float64\n",
      " 14  special requests          36285 non-null  int64  \n",
      " 15  date of reservation       36285 non-null  object \n",
      " 16  booking status            36285 non-null  object \n",
      "dtypes: float64(1), int64(10), object(6)\n",
      "memory usage: 4.7+ MB\n"
     ]
    }
   ],
   "source": [
    "# View the df shape\n",
    "print(\"Data shape:\", df.shape)\n",
    "print('\\n')\n",
    "\n",
    "# View the df info\n",
    "print(\"Data info:\")\n",
    "df.info()"
   ]
  },
  {
   "cell_type": "markdown",
   "id": "a3abd35a-2fa5-4dd6-ab81-6ea831072a0a",
   "metadata": {},
   "source": [
    "Per the above information, we do not seem to have any missing values so we do not need to decide on an strategy on how to handle these values."
   ]
  },
  {
   "cell_type": "code",
   "execution_count": 5,
   "id": "e53cf522-274f-4106-b733-f71a9881e2b0",
   "metadata": {},
   "outputs": [
    {
     "name": "stdout",
     "output_type": "stream",
     "text": [
      "Number of duplicate rows: 0\n"
     ]
    }
   ],
   "source": [
    "# Check for duplicate rows\n",
    "print(f\"Number of duplicate rows: {df.duplicated().sum()}\")"
   ]
  },
  {
   "cell_type": "code",
   "execution_count": 6,
   "id": "dcf51b4a-e7da-487a-ad1d-e9be41660e01",
   "metadata": {},
   "outputs": [
    {
     "name": "stdout",
     "output_type": "stream",
     "text": [
      "\n",
      "Categorical features value counts:\n",
      "\n",
      "Value counts for column: 'Booking_ID'\n",
      "Booking_ID\n",
      "INN00001    1\n",
      "INN24194    1\n",
      "INN24188    1\n",
      "INN24189    1\n",
      "INN24190    1\n",
      "           ..\n",
      "INN12090    1\n",
      "INN12089    1\n",
      "INN12088    1\n",
      "INN12087    1\n",
      "INN36286    1\n",
      "Name: count, Length: 36285, dtype: int64\n",
      "\n",
      "Value counts for column: 'type of meal'\n",
      "type of meal\n",
      "Meal Plan 1     27842\n",
      "Not Selected     5132\n",
      "Meal Plan 2      3306\n",
      "Meal Plan 3         5\n",
      "Name: count, dtype: int64\n",
      "\n",
      "Value counts for column: 'room type'\n",
      "room type\n",
      "Room_Type 1    28138\n",
      "Room_Type 4     6059\n",
      "Room_Type 6      966\n",
      "Room_Type 2      692\n",
      "Room_Type 5      265\n",
      "Room_Type 7      158\n",
      "Room_Type 3        7\n",
      "Name: count, dtype: int64\n",
      "\n",
      "Value counts for column: 'market segment type'\n",
      "market segment type\n",
      "Online           23221\n",
      "Offline          10531\n",
      "Corporate         2017\n",
      "Complementary      391\n",
      "Aviation           125\n",
      "Name: count, dtype: int64\n",
      "\n",
      "Value counts for column: 'date of reservation'\n",
      "date of reservation\n",
      "10/13/2018    254\n",
      "10/16/2017    236\n",
      "6/15/2018     231\n",
      "6/24/2018     213\n",
      "9/18/2017     201\n",
      "             ... \n",
      "10/2/2015       1\n",
      "7/24/2017       1\n",
      "9/13/2016       1\n",
      "5/20/2017       1\n",
      "7/21/2017       1\n",
      "Name: count, Length: 553, dtype: int64\n",
      "\n",
      "Value counts for column: 'booking status'\n",
      "booking status\n",
      "Not_Canceled    24396\n",
      "Canceled        11889\n",
      "Name: count, dtype: int64\n"
     ]
    }
   ],
   "source": [
    "# Frequency tables for categorical features\n",
    "print(\"\\nCategorical features value counts:\")\n",
    "for col in df.select_dtypes(include=['object']).columns:\n",
    "    print(f\"\\nValue counts for column: '{col}'\")\n",
    "    print(df[col].value_counts())"
   ]
  },
  {
   "cell_type": "code",
   "execution_count": 7,
   "id": "1312a05a-c2eb-4274-b308-5bfd5748a26e",
   "metadata": {},
   "outputs": [
    {
     "name": "stdout",
     "output_type": "stream",
     "text": [
      "\n",
      "Numerical features description:\n"
     ]
    },
    {
     "data": {
      "text/html": [
       "<div>\n",
       "<style scoped>\n",
       "    .dataframe tbody tr th:only-of-type {\n",
       "        vertical-align: middle;\n",
       "    }\n",
       "\n",
       "    .dataframe tbody tr th {\n",
       "        vertical-align: top;\n",
       "    }\n",
       "\n",
       "    .dataframe thead th {\n",
       "        text-align: right;\n",
       "    }\n",
       "</style>\n",
       "<table border=\"1\" class=\"dataframe\">\n",
       "  <thead>\n",
       "    <tr style=\"text-align: right;\">\n",
       "      <th></th>\n",
       "      <th>number of adults</th>\n",
       "      <th>number of children</th>\n",
       "      <th>number of weekend nights</th>\n",
       "      <th>number of week nights</th>\n",
       "      <th>car parking space</th>\n",
       "      <th>lead time</th>\n",
       "      <th>repeated</th>\n",
       "      <th>P-C</th>\n",
       "      <th>P-not-C</th>\n",
       "      <th>average price</th>\n",
       "      <th>special requests</th>\n",
       "    </tr>\n",
       "  </thead>\n",
       "  <tbody>\n",
       "    <tr>\n",
       "      <th>count</th>\n",
       "      <td>36285.000000</td>\n",
       "      <td>36285.000000</td>\n",
       "      <td>36285.000000</td>\n",
       "      <td>36285.000000</td>\n",
       "      <td>36285.000000</td>\n",
       "      <td>36285.000000</td>\n",
       "      <td>36285.000000</td>\n",
       "      <td>36285.000000</td>\n",
       "      <td>36285.000000</td>\n",
       "      <td>36285.000000</td>\n",
       "      <td>36285.000000</td>\n",
       "    </tr>\n",
       "    <tr>\n",
       "      <th>mean</th>\n",
       "      <td>1.844839</td>\n",
       "      <td>0.105360</td>\n",
       "      <td>0.810693</td>\n",
       "      <td>2.204602</td>\n",
       "      <td>0.030977</td>\n",
       "      <td>85.239851</td>\n",
       "      <td>0.025630</td>\n",
       "      <td>0.023343</td>\n",
       "      <td>0.153369</td>\n",
       "      <td>103.421636</td>\n",
       "      <td>0.619733</td>\n",
       "    </tr>\n",
       "    <tr>\n",
       "      <th>std</th>\n",
       "      <td>0.518813</td>\n",
       "      <td>0.402704</td>\n",
       "      <td>0.870590</td>\n",
       "      <td>1.410946</td>\n",
       "      <td>0.173258</td>\n",
       "      <td>85.938796</td>\n",
       "      <td>0.158032</td>\n",
       "      <td>0.368281</td>\n",
       "      <td>1.753931</td>\n",
       "      <td>35.086469</td>\n",
       "      <td>0.786262</td>\n",
       "    </tr>\n",
       "    <tr>\n",
       "      <th>min</th>\n",
       "      <td>0.000000</td>\n",
       "      <td>0.000000</td>\n",
       "      <td>0.000000</td>\n",
       "      <td>0.000000</td>\n",
       "      <td>0.000000</td>\n",
       "      <td>0.000000</td>\n",
       "      <td>0.000000</td>\n",
       "      <td>0.000000</td>\n",
       "      <td>0.000000</td>\n",
       "      <td>0.000000</td>\n",
       "      <td>0.000000</td>\n",
       "    </tr>\n",
       "    <tr>\n",
       "      <th>25%</th>\n",
       "      <td>2.000000</td>\n",
       "      <td>0.000000</td>\n",
       "      <td>0.000000</td>\n",
       "      <td>1.000000</td>\n",
       "      <td>0.000000</td>\n",
       "      <td>17.000000</td>\n",
       "      <td>0.000000</td>\n",
       "      <td>0.000000</td>\n",
       "      <td>0.000000</td>\n",
       "      <td>80.300000</td>\n",
       "      <td>0.000000</td>\n",
       "    </tr>\n",
       "    <tr>\n",
       "      <th>50%</th>\n",
       "      <td>2.000000</td>\n",
       "      <td>0.000000</td>\n",
       "      <td>1.000000</td>\n",
       "      <td>2.000000</td>\n",
       "      <td>0.000000</td>\n",
       "      <td>57.000000</td>\n",
       "      <td>0.000000</td>\n",
       "      <td>0.000000</td>\n",
       "      <td>0.000000</td>\n",
       "      <td>99.450000</td>\n",
       "      <td>0.000000</td>\n",
       "    </tr>\n",
       "    <tr>\n",
       "      <th>75%</th>\n",
       "      <td>2.000000</td>\n",
       "      <td>0.000000</td>\n",
       "      <td>2.000000</td>\n",
       "      <td>3.000000</td>\n",
       "      <td>0.000000</td>\n",
       "      <td>126.000000</td>\n",
       "      <td>0.000000</td>\n",
       "      <td>0.000000</td>\n",
       "      <td>0.000000</td>\n",
       "      <td>120.000000</td>\n",
       "      <td>1.000000</td>\n",
       "    </tr>\n",
       "    <tr>\n",
       "      <th>max</th>\n",
       "      <td>4.000000</td>\n",
       "      <td>10.000000</td>\n",
       "      <td>7.000000</td>\n",
       "      <td>17.000000</td>\n",
       "      <td>1.000000</td>\n",
       "      <td>443.000000</td>\n",
       "      <td>1.000000</td>\n",
       "      <td>13.000000</td>\n",
       "      <td>58.000000</td>\n",
       "      <td>540.000000</td>\n",
       "      <td>5.000000</td>\n",
       "    </tr>\n",
       "  </tbody>\n",
       "</table>\n",
       "</div>"
      ],
      "text/plain": [
       "       number of adults  number of children  number of weekend nights  \\\n",
       "count      36285.000000        36285.000000              36285.000000   \n",
       "mean           1.844839            0.105360                  0.810693   \n",
       "std            0.518813            0.402704                  0.870590   \n",
       "min            0.000000            0.000000                  0.000000   \n",
       "25%            2.000000            0.000000                  0.000000   \n",
       "50%            2.000000            0.000000                  1.000000   \n",
       "75%            2.000000            0.000000                  2.000000   \n",
       "max            4.000000           10.000000                  7.000000   \n",
       "\n",
       "       number of week nights  car parking space     lead time      repeated  \\\n",
       "count           36285.000000       36285.000000  36285.000000  36285.000000   \n",
       "mean                2.204602           0.030977     85.239851      0.025630   \n",
       "std                 1.410946           0.173258     85.938796      0.158032   \n",
       "min                 0.000000           0.000000      0.000000      0.000000   \n",
       "25%                 1.000000           0.000000     17.000000      0.000000   \n",
       "50%                 2.000000           0.000000     57.000000      0.000000   \n",
       "75%                 3.000000           0.000000    126.000000      0.000000   \n",
       "max                17.000000           1.000000    443.000000      1.000000   \n",
       "\n",
       "                P-C       P-not-C  average price  special requests  \n",
       "count  36285.000000  36285.000000   36285.000000      36285.000000  \n",
       "mean       0.023343      0.153369     103.421636          0.619733  \n",
       "std        0.368281      1.753931      35.086469          0.786262  \n",
       "min        0.000000      0.000000       0.000000          0.000000  \n",
       "25%        0.000000      0.000000      80.300000          0.000000  \n",
       "50%        0.000000      0.000000      99.450000          0.000000  \n",
       "75%        0.000000      0.000000     120.000000          1.000000  \n",
       "max       13.000000     58.000000     540.000000          5.000000  "
      ]
     },
     "execution_count": 7,
     "metadata": {},
     "output_type": "execute_result"
    }
   ],
   "source": [
    "# Descriptive statistics for numerical features\n",
    "print(\"\\nNumerical features description:\")\n",
    "df.describe()"
   ]
  },
  {
   "cell_type": "code",
   "execution_count": 8,
   "id": "680b331f-2b8c-4057-b3f4-f2730643a4d2",
   "metadata": {},
   "outputs": [
    {
     "data": {
      "image/png": "[encoded data removed]",
      "text/plain": [
       "<Figure size 1200x1000 with 2 Axes>"
      ]
     },
     "metadata": {},
     "output_type": "display_data"
    }
   ],
   "source": [
    "# Select only numerical columns\n",
    "numerical_cols = df.select_dtypes(include=['float64', 'int64']).columns\n",
    "\n",
    "# Calculate correlation matrix for numerical features\n",
    "corr_matrix = df[numerical_cols].corr()\n",
    "\n",
    "# Create heatmap\n",
    "plt.figure(figsize=(12, 10))\n",
    "sns.heatmap(corr_matrix, annot=True, cmap='coolwarm')\n",
    "plt.title(\"Correlation Heatmap (Numerical Features)\");\n",
    "plt.show() "
   ]
  },
  {
   "cell_type": "markdown",
   "id": "b998cfb6-f9d4-4cf7-ac57-52b185b908dc",
   "metadata": {},
   "source": [
    "### Feature Engineering"
   ]
  },
  {
   "cell_type": "markdown",
   "id": "98e38751-23bf-4bf8-8cb4-f61d2f586c11",
   "metadata": {},
   "source": []
  },
  {
   "cell_type": "code",
   "execution_count": 9,
   "id": "a2f27ee9-f6e5-45c5-b9b0-a990d21768ed",
   "metadata": {},
   "outputs": [],
   "source": [
    "#Convert the values in the target column to binary (0 or 1)\n",
    "df['booking status'] = df['booking status'].replace({'Canceled': 1, 'Not_Canceled': 0}) "
   ]
  },
  {
   "cell_type": "code",
   "execution_count": 10,
   "id": "0bd4c373-f5fa-4725-9652-f70a1b8b35f4",
   "metadata": {},
   "outputs": [],
   "source": [
    "# Use map to conditionally change the specific date\n",
    "df['date of reservation'] = df['date of reservation'].map(lambda x: '2-28-2018' if x == '2018-2-29' else x)"
   ]
  },
  {
   "cell_type": "code",
   "execution_count": 11,
   "id": "ebf7720e-bbd2-45fd-92cb-0f95db4c11c5",
   "metadata": {},
   "outputs": [],
   "source": [
    "# Convert the 'date' column to datetime format\n",
    "df['date of reservation'] = pd.to_datetime(df['date of reservation'], format='mixed')"
   ]
  },
  {
   "cell_type": "code",
   "execution_count": 12,
   "id": "e7c6576d-1d31-4374-af75-7c2fd8166116",
   "metadata": {},
   "outputs": [],
   "source": [
    "#Feature Engineering based on the 'date of reservation'\n",
    "df['reservation_month'] = pd.to_datetime(df['date of reservation']).dt.month\n",
    "df['reservation_year'] = pd.to_datetime(df['date of reservation']).dt.year\n",
    "df['reservation_day_of_week'] = pd.to_datetime(df['date of reservation']).dt.dayofweek"
   ]
  },
  {
   "cell_type": "code",
   "execution_count": 13,
   "id": "a03f3499-f885-43e1-9fc4-7c92d955ac1a",
   "metadata": {},
   "outputs": [
    {
     "data": {
      "text/plain": [
       "reservation_year\n",
       "2018    29767\n",
       "2017     6516\n",
       "2015        1\n",
       "2016        1\n",
       "Name: count, dtype: int64"
      ]
     },
     "execution_count": 13,
     "metadata": {},
     "output_type": "execute_result"
    }
   ],
   "source": [
    "#Checking the values in 'reservation_year'\n",
    "df['reservation_year'].value_counts()"
   ]
  },
  {
   "cell_type": "code",
   "execution_count": 14,
   "id": "e35ad6c4-2a91-4e11-b06a-0c820d14ffa9",
   "metadata": {},
   "outputs": [],
   "source": [
    "#Dropping from the df the 2 lines with values 2015 and 2016 as their influence is minimal\n",
    "df = df[~df['reservation_year'].isin([2015, 2016])] \n",
    "df=df.reset_index(drop=True)"
   ]
  },
  {
   "cell_type": "code",
   "execution_count": 15,
   "id": "bdaaf9ba-4d79-4ed7-804b-80a0d67eb163",
   "metadata": {},
   "outputs": [],
   "source": [
    "def get_season(month):\n",
    "    if month in [3, 4, 5]:\n",
    "        return 'Spring'\n",
    "    elif month in [6, 7, 8]:\n",
    "        return 'Summer'\n",
    "    elif month in [9, 10, 11]:\n",
    "        return 'Autumn'\n",
    "    else:\n",
    "        return 'Winter'\n",
    "\n",
    "df['reservation_season'] = df['reservation_month'].apply(get_season)"
   ]
  },
  {
   "cell_type": "code",
   "execution_count": 16,
   "id": "440fe44b-62b8-4def-86cc-38def6e7365d",
   "metadata": {},
   "outputs": [],
   "source": [
    "def get_quarter(month):\n",
    "    if month in [1, 2, 3]:\n",
    "        return 'Q1'\n",
    "    elif month in [4, 5, 6]:\n",
    "        return 'Q2'\n",
    "    elif month in [7, 8, 9]:\n",
    "        return 'Q3'\n",
    "    else:\n",
    "        return 'Q4'\n",
    "\n",
    "df['reservation_quarter'] = df['reservation_month'].apply(get_quarter)"
   ]
  },
  {
   "cell_type": "code",
   "execution_count": 17,
   "id": "524fb5c9-a2f3-49ea-b152-58b4fd3785b5",
   "metadata": {},
   "outputs": [],
   "source": [
    "df[\"average price\"] = df[\"average price\"].round().astype(int)"
   ]
  },
  {
   "cell_type": "code",
   "execution_count": 18,
   "id": "eddd1d95-eb4d-4e03-9dd7-dce057416ac3",
   "metadata": {},
   "outputs": [],
   "source": [
    "#Dropping unnecessary columns\n",
    "# Columns to drop\n",
    "cols_to_drop = ['Booking_ID', 'date of reservation'] \n",
    "\n",
    "# Drop the columns\n",
    "df = df.drop(columns=cols_to_drop)"
   ]
  },
  {
   "cell_type": "code",
   "execution_count": 19,
   "id": "1f40fe1c-5e6e-4520-9c47-9650cf737383",
   "metadata": {},
   "outputs": [],
   "source": [
    "#Renaming df columns\n",
    "#Define new column names as a list\n",
    "new_column_names = ['num_adults', 'num_children', 'num_weekend_nights',\n",
    "       'num_week_nights', 'type_meal', 'car_parking',\n",
    "       'room_type', 'lead_time', 'market_segment', 'repeat_booking', 'Previous_cancelled_bookings',\n",
    "       'Previous_not_cancelled_bookings', 'average_price', 'special_requests', 'booking_status',\n",
    "       'reservation_month', 'reservation_year', 'reservation_day_of_week',\n",
    "       'reservation_season', 'reservation_quarter']\n",
    "\n",
    "# Rename columns using list comprehension\n",
    "df.columns=new_column_names"
   ]
  },
  {
   "cell_type": "markdown",
   "id": "bd53237c-be82-4157-bc44-dd52c2c01876",
   "metadata": {},
   "source": [
    "### Feature Selection"
   ]
  },
  {
   "cell_type": "markdown",
   "id": "c88e0000-fab4-4538-a8bc-d130183debdf",
   "metadata": {},
   "source": [
    "Based on the data transformation and feature engineering, we have 5 features that are related to the 'date of reservation'. If we keep all of these, we will have columns with multicolinearity so we will run a statsmodel below and based on the R-squared from the model we will decide to keep which column to keep. "
   ]
  },
  {
   "cell_type": "code",
   "execution_count": 20,
   "id": "d4f55715-a7d3-43ee-8c9d-8fabefd2737a",
   "metadata": {},
   "outputs": [
    {
     "name": "stdout",
     "output_type": "stream",
     "text": [
      "Feature: reservation_month\n",
      "  R-squared: 0.0001\n",
      "  Adjusted R-squared: 0.0001\n",
      "  AIC: 38498.9325\n",
      "  BIC: 38515.4844\n",
      "\n",
      "Feature: reservation_year\n",
      "  R-squared: 0.0316\n",
      "  Adjusted R-squared: 0.0316\n",
      "  AIC: 37568.0357\n",
      "  BIC: 37584.5876\n",
      "\n",
      "Feature: reservation_day_of_week\n",
      "  R-squared: 0.0010\n",
      "  Adjusted R-squared: 0.0010\n",
      "  AIC: 38471.1177\n",
      "  BIC: 38487.6696\n",
      "\n",
      "Feature: reservation_season\n",
      "  R-squared: 0.0319\n",
      "  Adjusted R-squared: 0.0318\n",
      "  AIC: 37566.7282\n",
      "  BIC: 37608.1079\n",
      "\n",
      "Feature: reservation_quarter\n",
      "  R-squared: 0.0165\n",
      "  Adjusted R-squared: 0.0164\n",
      "  AIC: 38023.6403\n",
      "  BIC: 38065.0201\n",
      "\n"
     ]
    }
   ],
   "source": [
    "#Creating a list of the features to evaluate\n",
    "feature_cols = ['reservation_month','reservation_year' , 'reservation_day_of_week', 'reservation_season', 'reservation_quarter']\n",
    "\n",
    "#Running feature from helper.py which runs a statsmodel for each of the feature_cols to understand how each of these features explains\n",
    "# the target feature\n",
    "model_results = helper.compare_models_with_dummies(df, 'booking_status' , feature_cols)\n",
    "\n",
    "# Print the results of the statsmodel\n",
    "for feature, stats in model_results.items():\n",
    "  print(f\"Feature: {feature}\")\n",
    "  for stat_name, value in stats.items():\n",
    "    print(f\"  {stat_name}: {value:.4f}\")\n",
    "  print()"
   ]
  },
  {
   "cell_type": "markdown",
   "id": "afbc6989-1ff0-42c3-ace1-d84b177f0754",
   "metadata": {},
   "source": [
    "Based on the R-squared values, reservation_year appears to have the highest causality with the target feature, followed by reservation_season. The other features show much lower R-squared values, suggesting a weaker relationship with the target. To further decide between reservation_year and reservation_season we will run additional Linear regressions and Decision Trees. Finally, we will analyze the R-squared for these models."
   ]
  },
  {
   "cell_type": "code",
   "execution_count": 21,
   "id": "0dfd91f5-c96d-488a-8b0d-c68d3b2aee45",
   "metadata": {},
   "outputs": [],
   "source": [
    "# Define features and target\n",
    "features = ['reservation_year', 'reservation_season']\n",
    "target = 'booking_status'  \n",
    "\n",
    "# Split data into training and testing sets\n",
    "X = df[features]\n",
    "y = df[target]\n",
    "X_train, X_test, y_train, y_test = train_test_split(X, y, test_size=0.2, random_state=42)"
   ]
  },
  {
   "cell_type": "code",
   "execution_count": 22,
   "id": "c71affb5-c958-4e74-998c-a96b726b2f8f",
   "metadata": {},
   "outputs": [],
   "source": [
    "#Create One-Hot Encoder for 'reservation_season'\n",
    "encoder = OneHotEncoder(drop='first', sparse_output=False)\n",
    "encoder.fit(X_train[['reservation_season']])\n",
    "\n",
    "# Create df with One Hot Encoded columns\n",
    "X_train_encoded = pd.DataFrame(data=encoder.transform(X_train[['reservation_season']]), \n",
    "                              columns=encoder.get_feature_names_out(['reservation_season']), index=X_train['reservation_season'].index)\n",
    "X_train_encoded = pd.concat([X_train_encoded, X_train[['reservation_year']]], axis=1) \n",
    "\n",
    "X_test_encoded = pd.DataFrame(encoder.transform(X_test[['reservation_season']]), \n",
    "                             columns=encoder.get_feature_names_out(['reservation_season']), index=X_test['reservation_season'].index)\n",
    "X_test_encoded = pd.concat([X_test_encoded, X_test[['reservation_year']]], axis=1)"
   ]
  },
  {
   "cell_type": "code",
   "execution_count": 23,
   "id": "975f0ca4-e3f0-49f2-9ee4-79931658be8f",
   "metadata": {},
   "outputs": [
    {
     "name": "stdout",
     "output_type": "stream",
     "text": [
      "R-squared with reservation_year (Linear Regression): 0.03431643337078005\n",
      "R-squared with reservation_season (Linear Regression): 0.031988732298403155\n",
      "R-squared with all features (Linear Regression): 0.06431714070861816\n",
      "R-squared with reservation_year (Decision Tree): 0.03431643337078061\n",
      "R-squared with reservation_season (Decision Tree): 0.031988732298404154\n",
      "R-squared with all features (Decision Tree): 0.06774902203910371\n"
     ]
    }
   ],
   "source": [
    "# 1. Evaluate Linear Regression with 'reservation_year'\n",
    "\n",
    "model_year = LinearRegression()\n",
    "model_year.fit(X_train[['reservation_year']], y_train)\n",
    "y_pred_year = model_year.predict(X_test[['reservation_year']])\n",
    "r2_year = r2_score(y_test, y_pred_year)\n",
    "print(f\"R-squared with reservation_year (Linear Regression): {r2_year}\")\n",
    "\n",
    "# 2. Evaluate Linear Regression with 'reservation_season'\n",
    "\n",
    "model_season = LinearRegression()\n",
    "model_season.fit(X_train_encoded[['reservation_season_Spring', 'reservation_season_Summer','reservation_season_Winter']], y_train) \n",
    "y_pred_season = model_season.predict(X_test_encoded[['reservation_season_Spring', 'reservation_season_Summer', 'reservation_season_Winter']])\n",
    "r2_season = r2_score(y_test, y_pred_season)\n",
    "print(f\"R-squared with reservation_season (Linear Regression): {r2_season}\")\n",
    "\n",
    "# 3. Evaluate Linear Regression with all features\n",
    "\n",
    "model_all = LinearRegression()\n",
    "model_all.fit(X_train_encoded, y_train)\n",
    "y_pred_all = model_all.predict(X_test_encoded)\n",
    "r2_all = r2_score(y_test, y_pred_all)\n",
    "print(f\"R-squared with all features (Linear Regression): {r2_all}\")\n",
    "\n",
    "# 4. Evaluate Decision Tree with 'reservation_year'\n",
    "\n",
    "tree_model_year = DecisionTreeRegressor(random_state=42)\n",
    "tree_model_year.fit(X_train[['reservation_year']], y_train)\n",
    "y_pred_tree_year = tree_model_year.predict(X_test[['reservation_year']])\n",
    "r2_tree_year = r2_score(y_test, y_pred_tree_year)\n",
    "print(f\"R-squared with reservation_year (Decision Tree): {r2_tree_year}\")\n",
    "\n",
    "# 5. Evaluate Decision Tree with 'reservation_season'\n",
    "\n",
    "tree_model_season = DecisionTreeRegressor(random_state=42)\n",
    "tree_model_season.fit(X_train_encoded[['reservation_season_Spring', 'reservation_season_Summer', 'reservation_season_Winter']], y_train) \n",
    "y_pred_tree_season = tree_model_season.predict(X_test_encoded[['reservation_season_Spring', 'reservation_season_Summer', 'reservation_season_Winter']])\n",
    "r2_tree_season = r2_score(y_test, y_pred_tree_season)\n",
    "print(f\"R-squared with reservation_season (Decision Tree): {r2_tree_season}\")\n",
    "\n",
    "# 6. Evaluate Decision Tree with all features\n",
    "\n",
    "tree_model_all = DecisionTreeRegressor(random_state=42)\n",
    "tree_model_all.fit(X_train_encoded, y_train)\n",
    "y_pred_tree_all = tree_model_all.predict(X_test_encoded)\n",
    "r2_tree_all = r2_score(y_test, y_pred_tree_all)\n",
    "print(f\"R-squared with all features (Decision Tree): {r2_tree_all}\")"
   ]
  },
  {
   "cell_type": "markdown",
   "id": "57bddc07-2121-4270-bbf8-a995e7d4fe50",
   "metadata": {},
   "source": [
    "Observations:\n",
    "\n",
    "Individual Feature Performance: Both reservation_year and reservation_season show similar R-squared values for both Linear Regression and Decision Tree models. This suggests that, individually, they have comparable predictive power.\n",
    "\n",
    "Combined Features: The model using all features (both reservation_year and reservation_season) achieves a higher R-squared in both cases, indicating that combining these features improves the model's performance. This suggests that these features might have some complementary information."
   ]
  },
  {
   "cell_type": "markdown",
   "id": "08ac1804-74ee-44d5-aa13-af660046296f",
   "metadata": {},
   "source": [
    "My inclination will be to keep both but before doing that I want to confirm that these features are not correlated. We are going to plot two grpahs:'Box Plots' and 'Scatter Scatter plots'"
   ]
  },
  {
   "cell_type": "code",
   "execution_count": 24,
   "id": "9612ee6b-2977-436d-b48b-33a550ac9ca4",
   "metadata": {},
   "outputs": [
    {
     "data": {
      "image/png": "[encoded data removed]",
      "text/plain": [
       "<Figure size 800x600 with 1 Axes>"
      ]
     },
     "metadata": {},
     "output_type": "display_data"
    }
   ],
   "source": [
    "# Create the box plot\n",
    "plt.figure(figsize=(8, 6))\n",
    "plt.boxplot([df[df['reservation_season'] == season]['reservation_year'] for season in df['reservation_season'].unique()], \n",
    "            labels=df['reservation_season'].unique())\n",
    "plt.xlabel('Reservation Season')\n",
    "plt.ylabel('Reservation Year')\n",
    "plt.title('Reservation Year Distribution by Season')\n",
    "plt.show()"
   ]
  },
  {
   "cell_type": "markdown",
   "id": "8d6d1331-3ba6-43db-8cbb-c90ff87dfe60",
   "metadata": {},
   "source": []
  },
  {
   "cell_type": "code",
   "execution_count": 39,
   "id": "9ffe8acd-d601-41f3-8a8e-2982c91d0082",
   "metadata": {},
   "outputs": [
    {
     "data": {
      "image/png": "[encoded data removed]",
      "text/plain": [
       "<Figure size 800x600 with 1 Axes>"
      ]
     },
     "metadata": {},
     "output_type": "display_data"
    }
   ],
   "source": [
    "#assign numerical values to the seasons for plotting on the y-axis\n",
    "Seasons_graph = df['reservation_season'].map({'Spring': 1, 'Summer': 2, 'Autumn': 3, 'Winter': 4}) \n",
    "\n",
    "plt.figure(figsize=(8, 6))\n",
    "plt.scatter(df['reservation_year'], Seasons_graph)\n",
    "plt.xlabel('Reservation Year')\n",
    "plt.ylabel('Reservation Season')\n",
    "plt.title('Reservation Year vs. Reservation Season')\n",
    "plt.yticks([1, 2, 3, 4], ['Spring', 'Summer', 'Autumn', 'Winter']) \n",
    "plt.show()"
   ]
  },
  {
   "cell_type": "markdown",
   "id": "1acb3e85-b1ee-4f8e-bebb-fa015bbdcafb",
   "metadata": {},
   "source": [
    "After completing my visual analysis, I have decided to keep both reservation_year and reservation_season for my model as these two features do not seem to have any correlation. See a further explanation below:\n",
    "\n",
    "- ***Box Plot*** shows that the distributions of reservation_year across different seasons are similar. The medians and overall spreads of the reservation_year values for each season are relatively close, suggesting that there aren't significant differences in the distribution of reservation_year based on the season.\n",
    "\n",
    "- ***Scatter Plot*** supports the findings from the Box Plot. We see that the data points are clustered by season, but there's no clear linear trend or pattern. The reservation_year values are distributed relatively evenly within each season, with no strong association between the year and the season."
   ]
  },
  {
   "cell_type": "markdown",
   "id": "1c699131-64a0-4cb4-ab2d-5d0c080293e4",
   "metadata": {},
   "source": [
    "To further confirm the above, I will run an ANOVA test.\n",
    "\n",
    "Null Hypothesis (H0): The mean reservation_year is the same across all seasons (i.e., there is no significant difference in the mean reservation_year between Spring, Summer, Autumn, and Winter).\n",
    "\n",
    "Alternative Hypothesis (H1): The mean reservation_year is different for at least one season compared to the others (i.e., there is a significant difference in the mean reservation_year between at least two of the seasons)."
   ]
  },
  {
   "cell_type": "code",
   "execution_count": 26,
   "id": "e9240500-706c-4505-a223-78322065acae",
   "metadata": {},
   "outputs": [
    {
     "name": "stdout",
     "output_type": "stream",
     "text": [
      "ANOVA F-statistic: 1368.384760383967\n",
      "ANOVA p-value: 0.0\n",
      "Reject the null hypothesis. There is evidence that the mean reservation_year differs significantly across seasons.\n"
     ]
    }
   ],
   "source": [
    "# Perform ANOVA\n",
    "f_statistic, p_value = f_oneway(\n",
    "    df[df['reservation_season'] == 'Spring']['reservation_year'],\n",
    "    df[df['reservation_season'] == 'Summer']['reservation_year'],\n",
    "    df[df['reservation_season'] == 'Autumn']['reservation_year'],\n",
    "    df[df['reservation_season'] == 'Winter']['reservation_year']\n",
    ")\n",
    "\n",
    "print(f\"ANOVA F-statistic: {f_statistic}\")\n",
    "print(f\"ANOVA p-value: {p_value}\")\n",
    "\n",
    "# Interpret results based on p-value\n",
    "if p_value < 0.05:\n",
    "    print(\"Reject the null hypothesis. There is evidence that the mean reservation_year differs significantly across seasons.\")\n",
    "else:\n",
    "    print(\"Fail to reject the null hypothesis. There is no evidence to suggest that the mean reservation_year differs significantly across seasons.\")"
   ]
  },
  {
   "cell_type": "markdown",
   "id": "2f1faace-af66-4943-946d-e3a1e246ea9a",
   "metadata": {},
   "source": [
    "So after I have explored the relationship between reservation_year and reservation_season using visual and statistical methods. The visaul analysis based in Box plots and a scatter plot initially suggested a weak correlation, with similar distributions of reservation_year across seasons. However, ANOVA can detect significant differences in mean reservation_year across seasons. If ANOVA rejects the null hypothesis, including both features in a logistic regression model will be the best option for my model. Based on this, my model will have the potential to capture potential interactions and improve predictive accuracy."
   ]
  },
  {
   "cell_type": "markdown",
   "id": "7983d61f-519c-480a-8014-0ed4e256e51d",
   "metadata": {},
   "source": [
    "### Data Transformation"
   ]
  },
  {
   "cell_type": "markdown",
   "id": "81e8dd4b-a285-4fe3-bf5b-77090ebd1cc4",
   "metadata": {},
   "source": []
  },
  {
   "cell_type": "code",
   "execution_count": 27,
   "id": "f672fb4b-5d04-4db7-a27b-3b91dcc2cbeb",
   "metadata": {},
   "outputs": [],
   "source": [
    "# Split dataset to create the target variable and features\n",
    "X = df.drop(columns=['booking_status','reservation_month' , 'reservation_day_of_week','reservation_quarter'], axis = 1)\n",
    "y = df['booking_status']"
   ]
  },
  {
   "cell_type": "code",
   "execution_count": 28,
   "id": "78c05292-ed2f-4d5f-b137-3147a523cedb",
   "metadata": {},
   "outputs": [],
   "source": [
    "# Split the data into a train and test set using 20% for test\n",
    "# Used random state = 42 for reproducibility\n",
    "X_train, X_test, y_train, y_test = train_test_split(X, y, random_state=42, shuffle=True)"
   ]
  },
  {
   "cell_type": "markdown",
   "id": "0b0ea8bc-62ec-49fc-8d5d-275d98832623",
   "metadata": {},
   "source": []
  },
  {
   "cell_type": "code",
   "execution_count": 33,
   "id": "d197146a-acf6-41ca-a5b0-b44061a58606",
   "metadata": {},
   "outputs": [],
   "source": [
    "#Create One-Hot Encoder \n",
    "encoder = OneHotEncoder(drop='first', sparse_output=False)\n",
    "\n",
    "#Create df only with the categorical columns\n",
    "cat_train = X_train[['type_meal', 'room_type', 'market_segment', 'reservation_season']]\n",
    "cat_test = X_test[['type_meal', 'room_type', 'market_segment', 'reservation_season']]\n",
    "\n",
    "# Fit the encoder to the training data\n",
    "encoder.fit(cat_train) \n",
    "\n",
    "# Create df with One Hot Encoded columns\n",
    "X_train_encoded_cat = pd.DataFrame(data=encoder.transform(cat_train), \n",
    "                                    columns=encoder.get_feature_names_out(), \n",
    "                                    index=cat_train.index)\n",
    "\n",
    "X_test_encoded_cat = pd.DataFrame(data=encoder.transform(cat_test), \n",
    "                                    columns=encoder.get_feature_names_out(), \n",
    "                                    index=cat_test.index)"
   ]
  },
  {
   "cell_type": "markdown",
   "id": "f509fce6-1ca1-4f6b-bf83-bee703167d3b",
   "metadata": {},
   "source": []
  },
  {
   "cell_type": "code",
   "execution_count": 34,
   "id": "3dc11463-c3bf-41d6-b6c3-fa5fa8bc4eb6",
   "metadata": {},
   "outputs": [],
   "source": [
    "#Start the scaler\n",
    "scaler = StandardScaler()\n",
    "\n",
    "#Select numerical columns from the original df\n",
    "num_cols = ['num_adults', 'num_children', 'num_weekend_nights', 'num_week_nights','car_parking', 'lead_time', 'repeat_booking', 'Previous_cancelled_bookings','Previous_not_cancelled_bookings', 'average_price', 'special_requests','reservation_year']\n",
    "\n",
    "# Create 'num_train' and 'num_test' using the selected numerical columns\n",
    "num_train = X_train[num_cols].copy()\n",
    "num_test = X_test[num_cols].copy()\n",
    "\n",
    "#Fit and tranform the train data\n",
    "scaler.fit_transform(num_train)\n",
    "\n",
    "# Create new dfs with scaler columns\n",
    "num_train_scaler = pd.DataFrame(data=scaler.transform(num_train), columns=num_train.columns, index=num_train.index)\n",
    "num_test_scaler = pd.DataFrame(data=scaler.transform(num_test), columns=num_test.columns, index=num_test.index)"
   ]
  },
  {
   "cell_type": "markdown",
   "id": "4d43f386-fba0-48e7-9fcf-90181daf143b",
   "metadata": {},
   "source": []
  },
  {
   "cell_type": "code",
   "execution_count": 35,
   "id": "38514a98-dd81-47c4-a499-69eabe5fee11",
   "metadata": {},
   "outputs": [],
   "source": [
    "# Merging the transformed categorical columns with the scaled numerical columns \n",
    "X_train_transformed = pd.concat([num_train_scaler, X_train_encoded_cat], axis=1)\n",
    "\n",
    "X_test_transformed = pd.concat([num_test_scaler, X_test_encoded_cat], axis=1)"
   ]
  },
  {
   "cell_type": "markdown",
   "id": "4450c4d2-3bca-49b8-ba68-fbfcf0b30bb6",
   "metadata": {},
   "source": [
    "## Modelling"
   ]
  },
  {
   "cell_type": "markdown",
   "id": "706bd617-cbc3-4bb8-9ec9-7cf5b3cd8e3d",
   "metadata": {},
   "source": []
  },
  {
   "cell_type": "markdown",
   "id": "02b40d51-1694-41cc-a4d7-f2befe80b9a5",
   "metadata": {},
   "source": [
    "### Logistic Regression"
   ]
  },
  {
   "cell_type": "markdown",
   "id": "5a643133-8eb3-4e73-8178-8bcdb0a698ff",
   "metadata": {},
   "source": []
  },
  {
   "cell_type": "code",
   "execution_count": 36,
   "id": "6aa9130d-5faf-4432-bee9-eb8ef2b6421e",
   "metadata": {},
   "outputs": [
    {
     "name": "stdout",
     "output_type": "stream",
     "text": [
      "Warning: Maximum number of iterations has been exceeded.\n",
      "         Current function value: 0.422051\n",
      "         Iterations: 35\n",
      "                           Logit Regression Results                           \n",
      "==============================================================================\n",
      "Dep. Variable:         booking_status   No. Observations:                27212\n",
      "Model:                          Logit   Df Residuals:                    27183\n",
      "Method:                           MLE   Df Model:                           28\n",
      "Date:                Sat, 11 Jan 2025   Pseudo R-squ.:                  0.3334\n",
      "Time:                        22:37:41   Log-Likelihood:                -11485.\n",
      "converged:                      False   LL-Null:                       -17230.\n",
      "Covariance Type:            nonrobust   LLR p-value:                     0.000\n",
      "===================================================================================================\n",
      "                                      coef    std err          z      P>|z|      [0.025      0.975]\n",
      "---------------------------------------------------------------------------------------------------\n",
      "const                              -0.5171      0.251     -2.063      0.039      -1.008      -0.026\n",
      "num_adults                          0.0763      0.019      4.003      0.000       0.039       0.114\n",
      "num_children                        0.0852      0.024      3.617      0.000       0.039       0.131\n",
      "num_weekend_nights                  0.1178      0.017      7.032      0.000       0.085       0.151\n",
      "num_week_nights                     0.0646      0.017      3.844      0.000       0.032       0.098\n",
      "car_parking                        -0.2700      0.024    -11.355      0.000      -0.317      -0.223\n",
      "lead_time                           1.2404      0.022     57.040      0.000       1.198       1.283\n",
      "repeat_booking                     -0.3750      0.086     -4.356      0.000      -0.544      -0.206\n",
      "Previous_cancelled_bookings         0.0994      0.029      3.379      0.001       0.042       0.157\n",
      "Previous_not_cancelled_bookings    -0.1233      0.145     -0.852      0.394      -0.407       0.161\n",
      "average_price                       0.4805      0.026     18.791      0.000       0.430       0.531\n",
      "special_requests                   -1.2036      0.023    -51.800      0.000      -1.249      -1.158\n",
      "reservation_year                    0.2769      0.022     12.548      0.000       0.234       0.320\n",
      "type_meal_Meal Plan 2               0.2951      0.064      4.592      0.000       0.169       0.421\n",
      "type_meal_Meal Plan 3              10.3554     99.331      0.104      0.917    -184.330     205.041\n",
      "type_meal_Not Selected              0.1557      0.051      3.031      0.002       0.055       0.256\n",
      "room_type_Room_Type 2              -0.4075      0.131     -3.118      0.002      -0.664      -0.151\n",
      "room_type_Room_Type 3              -0.1998      1.297     -0.154      0.878      -2.742       2.342\n",
      "room_type_Room_Type 4              -0.2196      0.051     -4.269      0.000      -0.320      -0.119\n",
      "room_type_Room_Type 5              -0.9156      0.188     -4.869      0.000      -1.284      -0.547\n",
      "room_type_Room_Type 6              -0.6669      0.144     -4.621      0.000      -0.950      -0.384\n",
      "room_type_Room_Type 7              -1.1185      0.302     -3.709      0.000      -1.710      -0.527\n",
      "market_segment_Complementary      -29.4004   1.22e+05     -0.000      1.000    -2.4e+05     2.4e+05\n",
      "market_segment_Corporate           -0.7110      0.264     -2.694      0.007      -1.228      -0.194\n",
      "market_segment_Offline             -1.6220      0.253     -6.412      0.000      -2.118      -1.126\n",
      "market_segment_Online               0.1866      0.250      0.745      0.456      -0.304       0.677\n",
      "reservation_season_Spring          -0.1851      0.048     -3.880      0.000      -0.279      -0.092\n",
      "reservation_season_Summer          -0.1817      0.043     -4.255      0.000      -0.265      -0.098\n",
      "reservation_season_Winter          -0.8786      0.063    -13.869      0.000      -1.003      -0.754\n",
      "===================================================================================================\n"
     ]
    },
    {
     "name": "stderr",
     "output_type": "stream",
     "text": [
      "/opt/anaconda3/envs/learn-env/lib/python3.9/site-packages/statsmodels/base/model.py:607: ConvergenceWarning: Maximum Likelihood optimization failed to converge. Check mle_retvals\n",
      "  warnings.warn(\"Maximum Likelihood optimization failed to \"\n"
     ]
    }
   ],
   "source": [
    "#Add constant to the training and test data to run a Logit Regression in statsmodel\n",
    "X_train_sm = sm.add_constant(X_train_transformed)\n",
    "X_test_sm = sm.add_constant(X_test_transformed)\n",
    "\n",
    "# Fit the Logistic Regression Model \n",
    "logit_model = sm.Logit(y_train, X_train_sm).fit()\n",
    "\n",
    "# Model Summary\n",
    "print(logit_model.summary())"
   ]
  },
  {
   "cell_type": "markdown",
   "id": "f143bf1a-e074-4c17-bd35-88f592c51104",
   "metadata": {},
   "source": [
    "Add brief decription of model.\n",
    "Mention the coefficients with a p-value>0.05"
   ]
  },
  {
   "cell_type": "code",
   "execution_count": 37,
   "id": "981c894a-b737-4100-b1f8-07e06a9c63bf",
   "metadata": {},
   "outputs": [
    {
     "name": "stdout",
     "output_type": "stream",
     "text": [
      "Train Accuracy: 0.808\n",
      "Test Accuracy: 0.809\n",
      "Train Precision: 0.739\n",
      "Test Precision: 0.738\n",
      "Train Recall: 0.643\n",
      "Test Recall: 0.642\n",
      "Train F1-score: 0.688\n",
      "Test F1-score: 0.686\n",
      "Train AUC: 0.865\n",
      "Test AUC: 0.868\n"
     ]
    }
   ],
   "source": [
    "#Evaluating the performance of the model\n",
    "# Make Predictions\n",
    "y_pred_prob_train = logit_model.predict(X_train_sm)\n",
    "y_pred_prob_test = logit_model.predict(X_test_sm)\n",
    "\n",
    "# Calculate Probabilities\n",
    "y_pred_train = (y_pred_prob_train > 0.5).astype(int) \n",
    "y_pred_test = (y_pred_prob_test > 0.5).astype(int) \n",
    "\n",
    "# Evaluate Model Performance\n",
    "accuracy_train = accuracy_score(y_train, y_pred_train)\n",
    "accuracy_test = accuracy_score(y_test, y_pred_test)\n",
    "\n",
    "precision_train = precision_score(y_train,y_pred_train)\n",
    "precision_test = precision_score(y_test, y_pred_test)\n",
    "\n",
    "recall_train = recall_score(y_train, y_pred_train)\n",
    "recall_test = recall_score(y_test, y_pred_test)\n",
    "\n",
    "f1_train = f1_score(y_train, y_pred_train)\n",
    "f1_test = f1_score(y_test, y_pred_test)\n",
    "\n",
    "auc_train = roc_auc_score(y_train, y_pred_prob_train)\n",
    "auc_test = roc_auc_score(y_test, y_pred_prob_test)\n",
    "\n",
    "print(f\"Train Accuracy: {accuracy_train:.3f}\")\n",
    "print(f\"Test Accuracy: {accuracy_test:.3f}\")\n",
    "print(f\"Train Precision: {precision_train:.3f}\")\n",
    "print(f\"Test Precision: {precision_test:.3f}\")\n",
    "print(f\"Train Recall: {recall_train:.3f}\")\n",
    "print(f\"Test Recall: {recall_test:.3f}\")\n",
    "print(f\"Train F1-score: {f1_train:.3f}\")\n",
    "print(f\"Test F1-score: {f1_test:.3f}\")\n",
    "print(f\"Train AUC: {auc_train:.3f}\")\n",
    "print(f\"Test AUC: {auc_test:.3f}\")"
   ]
  },
  {
   "cell_type": "markdown",
   "id": "5372d97b-4698-460f-9369-8664e18743b8",
   "metadata": {},
   "source": [
    "Based on the above information, the model seems to have a ***reasonable performance***. Let me explain all the performance metrics below:\n",
    "\n",
    "1. Accuracy: The train and the test model have an accuracy of ~80% which means that the model correctly predicts the class labels for a significant proportion of instances.\n",
    "2. Precision:\n",
    "3. Recall:\n",
    "4. F1-score:\n",
    "5. AUC: "
   ]
  },
  {
   "cell_type": "code",
   "execution_count": 38,
   "id": "0146f7be-5b79-43ad-8c36-90a46a32a582",
   "metadata": {},
   "outputs": [
    {
     "name": "stdout",
     "output_type": "stream",
     "text": [
      "Train Model: Confusion Matrix\n"
     ]
    },
    {
     "data": {
      "image/png": "[encoded data removed]",
      "text/plain": [
       "<Figure size 640x480 with 2 Axes>"
      ]
     },
     "metadata": {},
     "output_type": "display_data"
    },
    {
     "name": "stdout",
     "output_type": "stream",
     "text": [
      "Test Model: Confusion Matrix\n"
     ]
    },
    {
     "data": {
      "image/png": "[encoded data removed]",
      "text/plain": [
       "<Figure size 640x480 with 2 Axes>"
      ]
     },
     "metadata": {},
     "output_type": "display_data"
    }
   ],
   "source": [
    "# Confusion Matrix\n",
    "# Train Model\n",
    "print('Train Model: Confusion Matrix')\n",
    "cm_train = confusion_matrix(y_train, y_pred_train)\n",
    "disp = ConfusionMatrixDisplay(confusion_matrix=cm_train)\n",
    "disp.plot()\n",
    "plt.show()\n",
    "\n",
    "# Test Model\n",
    "print('Test Model: Confusion Matrix')\n",
    "cm_test = confusion_matrix(y_test, y_pred_test)\n",
    "disp = ConfusionMatrixDisplay(confusion_matrix=cm_test)\n",
    "disp.plot()\n",
    "plt.show()"
   ]
  },
  {
   "cell_type": "markdown",
   "id": "2b242e79-0933-4199-81aa-449f700c0d83",
   "metadata": {},
   "source": [
    "Evaluate confusion matrix"
   ]
  },
  {
   "cell_type": "markdown",
   "id": "4c50fb1d-8b1c-4b05-ba5e-381ae131a59c",
   "metadata": {},
   "source": [
    "### Decision Tree Classifier"
   ]
  },
  {
   "cell_type": "markdown",
   "id": "b33639e8-f06a-4d04-934e-876fcd311779",
   "metadata": {},
   "source": []
  },
  {
   "cell_type": "code",
   "execution_count": null,
   "id": "42862358-ce35-4417-a672-60e10cafc82b",
   "metadata": {},
   "outputs": [],
   "source": []
  },
  {
   "cell_type": "code",
   "execution_count": null,
   "id": "eceb4564-f8d2-4f01-8dc5-5e212958fa41",
   "metadata": {},
   "outputs": [],
   "source": []
  },
  {
   "cell_type": "code",
   "execution_count": null,
   "id": "542e13e2-a130-4e18-8eaf-cf701ed2db7b",
   "metadata": {},
   "outputs": [],
   "source": []
  },
  {
   "cell_type": "code",
   "execution_count": null,
   "id": "856db4e6-6d6c-46e6-a0c4-cfa8d56f4c48",
   "metadata": {},
   "outputs": [],
   "source": []
  },
  {
   "cell_type": "code",
   "execution_count": null,
   "id": "4443b8f6-627d-4b46-9d12-77e533147ea7",
   "metadata": {},
   "outputs": [],
   "source": []
  },
  {
   "cell_type": "code",
   "execution_count": null,
   "id": "51cacc08-9c4e-4b2e-949e-5401baea3231",
   "metadata": {},
   "outputs": [],
   "source": []
  },
  {
   "cell_type": "code",
   "execution_count": null,
   "id": "9799bf32-8051-4aeb-b61e-ca2dfac5179c",
   "metadata": {},
   "outputs": [],
   "source": []
  },
  {
   "cell_type": "code",
   "execution_count": null,
   "id": "e673a5ce-02f3-42a9-a83b-97ed21297f55",
   "metadata": {},
   "outputs": [],
   "source": []
  },
  {
   "cell_type": "code",
   "execution_count": null,
   "id": "cd33fe8f-4964-4d60-ae96-22767e3862f9",
   "metadata": {},
   "outputs": [],
   "source": []
  },
  {
   "cell_type": "code",
   "execution_count": null,
   "id": "22e6b111-237e-423f-9979-ebb048a10386",
   "metadata": {},
   "outputs": [],
   "source": []
  },
  {
   "cell_type": "code",
   "execution_count": null,
   "id": "2efc8e6b-807d-4514-801b-d89cc66b7328",
   "metadata": {},
   "outputs": [],
   "source": []
  },
  {
   "cell_type": "code",
   "execution_count": null,
   "id": "eeccd67d-2467-4d4b-8da0-40570161330b",
   "metadata": {},
   "outputs": [],
   "source": []
  },
  {
   "cell_type": "code",
   "execution_count": null,
   "id": "5b00c361-1648-4707-b6d7-71c79db0350b",
   "metadata": {},
   "outputs": [],
   "source": []
  },
  {
   "cell_type": "code",
   "execution_count": null,
   "id": "244c403f-e235-43f1-9429-abfaa5963a7b",
   "metadata": {},
   "outputs": [],
   "source": []
  },
  {
   "cell_type": "code",
   "execution_count": null,
   "id": "a8ebfbf7-b7a7-4bd2-b0a9-0b3fdf5aaa1c",
   "metadata": {},
   "outputs": [],
   "source": []
  },
  {
   "cell_type": "code",
   "execution_count": null,
   "id": "13734ffe-4ec1-45ee-82b0-873dfa3d8fa0",
   "metadata": {},
   "outputs": [],
   "source": []
  },
  {
   "cell_type": "code",
   "execution_count": null,
   "id": "77871319-704a-46c0-8768-e53320c6e6d8",
   "metadata": {},
   "outputs": [],
   "source": []
  },
  {
   "cell_type": "code",
   "execution_count": null,
   "id": "4482f8f4-696b-4eb0-b7e0-7ecc7d1bea11",
   "metadata": {},
   "outputs": [],
   "source": []
  },
  {
   "cell_type": "code",
   "execution_count": null,
   "id": "e0ac279c-ac9d-4101-a8c0-79ca1f81f7b1",
   "metadata": {},
   "outputs": [],
   "source": []
  },
  {
   "cell_type": "code",
   "execution_count": null,
   "id": "8de27e36-67e3-46a1-ac62-0a80412db4f4",
   "metadata": {},
   "outputs": [],
   "source": []
  },
  {
   "cell_type": "code",
   "execution_count": null,
   "id": "ad9d01fa-52bf-4092-a808-415888046ff8",
   "metadata": {},
   "outputs": [],
   "source": []
  },
  {
   "cell_type": "code",
   "execution_count": 140,
   "id": "f4912f51-0322-41f0-b50e-27ce16181752",
   "metadata": {},
   "outputs": [],
   "source": []
  },
  {
   "cell_type": "code",
   "execution_count": null,
   "id": "69989c9d-26ed-4651-80b0-abc3e2ffa188",
   "metadata": {},
   "outputs": [],
   "source": []
  },
  {
   "cell_type": "code",
   "execution_count": 142,
   "id": "9fe68998-8348-433e-b2e9-e714b9f55208",
   "metadata": {},
   "outputs": [
    {
     "data": {
      "image/png": "[encoded data removed]",
      "text/plain": [
       "<Figure size 640x480 with 2 Axes>"
      ]
     },
     "metadata": {},
     "output_type": "display_data"
    }
   ],
   "source": [
    "corr_matrix = train.corr()\n",
    "sns.heatmap(corr_matrix, annot=True, cmap='coolwarm');"
   ]
  },
  {
   "cell_type": "code",
   "execution_count": null,
   "id": "9c6bfa32-f983-43ae-8584-815d945fd0bf",
   "metadata": {},
   "outputs": [],
   "source": []
  },
  {
   "cell_type": "code",
   "execution_count": null,
   "id": "f0bb3642-6668-48af-9d28-4c720ade0cfc",
   "metadata": {},
   "outputs": [],
   "source": []
  },
  {
   "cell_type": "code",
   "execution_count": null,
   "id": "2f3eb005-7d31-4df6-83b6-e34fd908d508",
   "metadata": {},
   "outputs": [],
   "source": []
  },
  {
   "cell_type": "code",
   "execution_count": null,
   "id": "13676112-7e9f-42a0-9ebc-e7cbde0a7b64",
   "metadata": {},
   "outputs": [],
   "source": []
  },
  {
   "cell_type": "code",
   "execution_count": null,
   "id": "154aeade-8b28-432c-8914-92f52c93b796",
   "metadata": {},
   "outputs": [],
   "source": []
  },
  {
   "cell_type": "code",
   "execution_count": null,
   "id": "5f2a5f7e-7a95-4b07-b95d-3372696af095",
   "metadata": {},
   "outputs": [],
   "source": []
  },
  {
   "cell_type": "code",
   "execution_count": null,
   "id": "dd7e1752-4a0f-4b4d-b722-e593eb1ccee1",
   "metadata": {},
   "outputs": [],
   "source": []
  },
  {
   "cell_type": "code",
   "execution_count": null,
   "id": "9280fb83-031c-4cbb-a66d-47f306a5b14a",
   "metadata": {},
   "outputs": [],
   "source": []
  },
  {
   "cell_type": "code",
   "execution_count": null,
   "id": "aaf3dc14-7de4-4ea1-ae8e-d0f8400e8e74",
   "metadata": {},
   "outputs": [],
   "source": []
  },
  {
   "cell_type": "code",
   "execution_count": null,
   "id": "b42b82f0-e35e-42b6-b562-1c616c8a5485",
   "metadata": {},
   "outputs": [],
   "source": []
  },
  {
   "cell_type": "code",
   "execution_count": null,
   "id": "deb7e3b7-2f31-485a-aaf5-ffa6df2f8422",
   "metadata": {},
   "outputs": [],
   "source": []
  },
  {
   "cell_type": "code",
   "execution_count": null,
   "id": "2822c882-6427-4006-9240-237c08cb7f23",
   "metadata": {},
   "outputs": [],
   "source": []
  },
  {
   "cell_type": "code",
   "execution_count": 42,
   "id": "39795c16-be73-4bf2-bba8-c0d1219b99d7",
   "metadata": {},
   "outputs": [],
   "source": []
  },
  {
   "cell_type": "code",
   "execution_count": 43,
   "id": "5d61edc1-418e-4435-95af-3b975f36501e",
   "metadata": {},
   "outputs": [],
   "source": []
  },
  {
   "cell_type": "code",
   "execution_count": null,
   "id": "f6d452b2-ca13-4dba-ac66-b39058e5c165",
   "metadata": {},
   "outputs": [],
   "source": []
  },
  {
   "cell_type": "code",
   "execution_count": null,
   "id": "421b4cee-653d-4e79-9cec-b095c7d21426",
   "metadata": {},
   "outputs": [],
   "source": []
  },
  {
   "cell_type": "code",
   "execution_count": null,
   "id": "78a0c807-eed0-4115-88e6-b0f212517af9",
   "metadata": {},
   "outputs": [],
   "source": []
  },
  {
   "cell_type": "code",
   "execution_count": null,
   "id": "3e07ba25-9814-4050-b233-b56666fd0a0e",
   "metadata": {},
   "outputs": [],
   "source": []
  },
  {
   "cell_type": "code",
   "execution_count": null,
   "id": "288129f0-0ab2-4e0d-925b-e647288d8c7b",
   "metadata": {},
   "outputs": [],
   "source": []
  },
  {
   "cell_type": "code",
   "execution_count": null,
   "id": "fb8f839a-336d-46c0-94ad-9235944a9147",
   "metadata": {},
   "outputs": [],
   "source": []
  },
  {
   "cell_type": "code",
   "execution_count": null,
   "id": "e9a305b5-a69d-414d-ab40-1e49d9a16d36",
   "metadata": {},
   "outputs": [],
   "source": []
  },
  {
   "cell_type": "code",
   "execution_count": null,
   "id": "26f0db2f-da6f-40a4-9c44-87ea9102f88e",
   "metadata": {},
   "outputs": [],
   "source": []
  },
  {
   "cell_type": "code",
   "execution_count": null,
   "id": "ec35e990-1199-4689-9fb8-b97be30f417d",
   "metadata": {},
   "outputs": [],
   "source": []
  },
  {
   "cell_type": "code",
   "execution_count": null,
   "id": "55938cee-22f7-4d8f-8707-703cea5a0297",
   "metadata": {},
   "outputs": [],
   "source": []
  },
  {
   "cell_type": "code",
   "execution_count": null,
   "id": "69158c3a-ac16-4e30-a8d4-e246bbec3c40",
   "metadata": {},
   "outputs": [],
   "source": []
  },
  {
   "cell_type": "code",
   "execution_count": null,
   "id": "ffb73e29-77d7-4cd2-8f4b-f2a2a50ddb22",
   "metadata": {},
   "outputs": [],
   "source": []
  },
  {
   "cell_type": "code",
   "execution_count": null,
   "id": "58ad5147-48bb-464b-846b-8e56d81723a1",
   "metadata": {},
   "outputs": [],
   "source": []
  },
  {
   "cell_type": "code",
   "execution_count": null,
   "id": "e999754f-9db2-4795-919f-61278e7b7fb6",
   "metadata": {},
   "outputs": [],
   "source": []
  },
  {
   "cell_type": "code",
   "execution_count": null,
   "id": "9a6bab42-01e5-418a-819a-8b7c89f66fae",
   "metadata": {},
   "outputs": [],
   "source": []
  },
  {
   "cell_type": "code",
   "execution_count": null,
   "id": "20041ae6-906a-4c38-8c4e-a095e5affd85",
   "metadata": {},
   "outputs": [],
   "source": []
  },
  {
   "cell_type": "code",
   "execution_count": null,
   "id": "9bda722e-d7f4-416f-ae69-54f343900ac0",
   "metadata": {},
   "outputs": [],
   "source": []
  },
  {
   "cell_type": "code",
   "execution_count": null,
   "id": "28b15882-cf4c-4e69-97bb-6a2c79da9b5a",
   "metadata": {},
   "outputs": [],
   "source": []
  },
  {
   "cell_type": "code",
   "execution_count": null,
   "id": "1a2e124e-6a29-4e3d-809a-9676ecb77b18",
   "metadata": {},
   "outputs": [],
   "source": []
  },
  {
   "cell_type": "code",
   "execution_count": null,
   "id": "0cc36e02-2b8d-470e-87ac-c60402299660",
   "metadata": {},
   "outputs": [],
   "source": []
  },
  {
   "cell_type": "code",
   "execution_count": null,
   "id": "53dc952e-1306-4a2a-bda8-e2619f64f4bd",
   "metadata": {},
   "outputs": [],
   "source": []
  },
  {
   "cell_type": "code",
   "execution_count": null,
   "id": "5b269f32-d7cd-42b3-b192-eedc1fabfa5d",
   "metadata": {},
   "outputs": [],
   "source": []
  },
  {
   "cell_type": "code",
   "execution_count": null,
   "id": "c307a3e6-419a-47be-9e4e-6e6d160faf97",
   "metadata": {},
   "outputs": [],
   "source": []
  }
 ],
 "metadata": {
  "kernelspec": {
   "display_name": "Python (learn-env)",
   "language": "python",
   "name": "learn-env"
  },
  "language_info": {
   "codemirror_mode": {
    "name": "ipython",
    "version": 3
   },
   "file_extension": ".py",
   "mimetype": "text/x-python",
   "name": "python",
   "nbconvert_exporter": "python",
   "pygments_lexer": "ipython3",
   "version": "3.9.19"
  }
 },
 "nbformat": 4,
 "nbformat_minor": 5
}
